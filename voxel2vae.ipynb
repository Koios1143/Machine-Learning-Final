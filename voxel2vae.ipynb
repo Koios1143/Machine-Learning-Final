{
 "cells": [
  {
   "cell_type": "code",
   "execution_count": null,
   "metadata": {},
   "outputs": [],
   "source": [
    "from google.colab import drive \n",
    "drive.mount('/content/drive')\n",
    "\n",
    "import numpy as np\n",
    "import torch\n",
    "import torch.nn as nn"
   ]
  },
  {
   "cell_type": "code",
   "execution_count": null,
   "metadata": {},
   "outputs": [],
   "source": [
    "testlh = np.load('/content/drive/MyDrive/ML_final/2023-Machine-Learning-Dataset/subj01/training_split/training_fmri/lh_training_fmri.npy')\n",
    "testrh = np.load('/content/drive/MyDrive/ML_final/2023-Machine-Learning-Dataset/subj01/training_split/training_fmri/rh_training_fmri.npy')\n",
    "test = np.concatenate((testlh,testrh), axis=1)"
   ]
  },
  {
   "cell_type": "code",
   "execution_count": null,
   "metadata": {},
   "outputs": [],
   "source": [
    "class voxelToVae(nn.Module):\n",
    "    def __init__(self, voxelSize, hiddenLayer):\n",
    "        super(voxelToVae, self).__init__()\n",
    "        self.f1 = nn.Linear(voxelSize, hiddenLayer)\n",
    "        self.f2 = nn.Linear(hiddenLayer, 4 * 53 * 53)\n",
    "\n",
    "    def forward(self, x):\n",
    "        x = torch.relu(self.f1(x))\n",
    "        x = torch.relu(self.f2(x))\n",
    "        return x.view(-1, 4, 53, 53)\n",
    "\n",
    "model = voxelToVae(voxelSize = test.shape[1] ,hiddenLayer = 128)\n",
    "testVoxel = torch.from_numpy(test[0])\n",
    "\n",
    "output = model(testVoxel)\n",
    "\n",
    "output.shape"
   ]
  }
 ],
 "metadata": {
  "language_info": {
   "name": "python"
  }
 },
 "nbformat": 4,
 "nbformat_minor": 2
}
