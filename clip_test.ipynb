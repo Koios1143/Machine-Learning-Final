{
 "cells": [
  {
   "cell_type": "code",
   "execution_count": null,
   "metadata": {},
   "outputs": [],
   "source": [
    "# use colab\n",
    "from google.colab import drive \n",
    "drive.mount('/content/drive')\n",
    "\n",
    "import numpy as np\n",
    "import pandas as pd\n",
    "import csv"
   ]
  },
  {
   "cell_type": "code",
   "execution_count": null,
   "metadata": {},
   "outputs": [],
   "source": [
    "from PIL import Image\n",
    "testImg1 = Image.open(\"/content/drive/MyDrive/ML_final/2023-Machine-Learning-Dataset/subj01/training_split/training_images/0.png\")"
   ]
  },
  {
   "cell_type": "code",
   "execution_count": null,
   "metadata": {},
   "outputs": [],
   "source": [
    "# openai clip only support pytorch==1.7.1, so use open_clip\n",
    "# pip install open_clip_torch\n",
    "\n",
    "import open_clip\n",
    "from PIL import Image\n",
    "\n",
    "model, _, preprocess = open_clip.create_model_and_transforms('ViT-L-14', pretrained='laion2b_s32b_b82k')\n",
    "encodeVoxel = preprocess(testImg1)\n"
   ]
  }
 ],
 "metadata": {
  "language_info": {
   "name": "python"
  }
 },
 "nbformat": 4,
 "nbformat_minor": 2
}
